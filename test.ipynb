{
 "cells": [
  {
   "cell_type": "markdown",
   "metadata": {},
   "source": [
    "# Database control on AWS redshift"
   ]
  },
  {
   "cell_type": "markdown",
   "metadata": {},
   "source": [
    "## Initialize the AWS Service\n",
    "\n",
    "AWS redshift need to be setup and initialized. Before the initialization, IAM user need to be setup at AWS console. Permission of AWS redshift full access, AWS S3 read-only access. Save the information of IAM account into the ```dwh.cfg```."
   ]
  },
  {
   "cell_type": "code",
   "execution_count": null,
   "metadata": {},
   "outputs": [],
   "source": [
    "import pandas as pd\n",
    "import boto3\n",
    "import json\n",
    "import configparser\n",
    "\n",
    "config = configparser.ConfigParser()\n",
    "config.read_file(open('dwh.cfg'))\n",
    "\n",
    "# AWS account info\n",
    "KEY                     = config.get('AWS','KEY')\n",
    "SECRET                  = config.get('AWS','SECRET')\n",
    "\n",
    "# Redshift cluster info\n",
    "DWH_CLUSTER_TYPE        = config.get('DWH','DWH_CLUSTER_TYPE')\n",
    "DWH_NUM_NODES           = config.get('DWH','DWH_NUM_NODES')\n",
    "DWH_NODE_TYPE           = config.get('DWH','DWH_NODE_TYPE')\n",
    "DWH_CLUSTER_IDENTIFIER  = config.get('DWH','DWH_CLUSTER_IDENTIFIER')\n",
    "DWH_DB                  = config.get('DWH','DWH_DB')\n",
    "DWH_DB_USER             = config.get('DWH','DWH_DB_USER')\n",
    "DWH_DB_PASSWORD         = config.get('DWH','DWH_DB_PASSWORD')\n",
    "DWH_PORT                = config.get('DWH','DWH_PORT')\n",
    "DWH_CLUSTER_TYPE        = config.get('DWH','DWH_CLUSTER_TYPE')\n",
    "\n",
    "# IAM role info\n",
    "DWH_IAM_ROLE_NAME       = config.get('DWH','DWH_IAM_ROLE_NAME')\n"
   ]
  },
  {
   "cell_type": "markdown",
   "metadata": {},
   "source": [
    "### Create IAM role to make Redshift able to read the data from S3 storage"
   ]
  },
  {
   "cell_type": "code",
   "execution_count": null,
   "metadata": {},
   "outputs": [],
   "source": [
    "iam = boto3.client('iam', aws_access_key_id=KEY,\n",
    "                      aws_secret_access_key=SECRET,\n",
    "                      region_name='us-east-1')\n",
    "redshift = boto3.client('redshift', \n",
    "                        region_name='us-east-1',\n",
    "                        aws_access_key_id=KEY,\n",
    "                        aws_secret_key_access_key=SECRET)\n",
    "\n",
    "from botocore.exceptions import ClientError\n",
    "\n",
    "try:\n",
    "    dwhRole = iam.create_role(\n",
    "        Path='/',\n",
    "        RoleName=DWH_IAM_ROLE_NAME,\n",
    "        Description = \"IAM role allow redshift read from S3\",\n",
    "        AssumeRolePolicyDocument=json.dumps(\n",
    "            {'Statement':[{'Action': 'sts:AssumeRole',\n",
    "                          'Effect':'Allow',\n",
    "                          'Principal':{'Service':'redshift.amazon'}}],\n",
    "             'Version':'2012-10-17'})\n",
    "    )\n",
    "except Exception as e:\n",
    "    print(e)\n",
    "    \n",
    "# Attaching policy\n",
    "\n",
    "iam.attach_role_policy(RoleName=DWH_IAM_ROLE_NAME,\n",
    "                       PolicyArn=)"
   ]
  }
 ],
 "metadata": {
  "kernelspec": {
   "display_name": "Python 3",
   "language": "python",
   "name": "python3"
  },
  "language_info": {
   "codemirror_mode": {
    "name": "ipython",
    "version": 3
   },
   "file_extension": ".py",
   "mimetype": "text/x-python",
   "name": "python",
   "nbconvert_exporter": "python",
   "pygments_lexer": "ipython3",
   "version": "3.7.4"
  }
 },
 "nbformat": 4,
 "nbformat_minor": 2
}
